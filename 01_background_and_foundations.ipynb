{
 "cells": [
  {
   "cell_type": "markdown",
   "id": "b592ab23",
   "metadata": {},
   "source": [
    "# Background and Foundations of Deep Learning\n",
    "\n",
    "## Introduction to Theano\n",
    "\n",
    "Theano is a Python library for fast numerical computation that can be run on the CPU or GPU. It is a key foundational library for deep learning in Python that you can use directly to create deep learning models. \n",
    "\n",
    "Full credit of Theano goes to the Montreal Institute for Learning Algoriths group at the Univeristy of Montreal with fair use under the BSD license. Further credit to Jason Brownlee, Ph.D. for his work in coordinating and developing the resources used in this repository. \n",
    "\n",
    "Theano was specifically designed to handle the types of computation required for large neural network algorithms used in deep learning. "
   ]
  },
  {
   "cell_type": "markdown",
   "id": "6ca5de91",
   "metadata": {},
   "source": [
    "### Installing Theano"
   ]
  },
  {
   "cell_type": "code",
   "execution_count": 1,
   "id": "65612b97",
   "metadata": {},
   "outputs": [],
   "source": [
    "#! pip install Theano"
   ]
  },
  {
   "cell_type": "code",
   "execution_count": 2,
   "id": "aff184b3",
   "metadata": {},
   "outputs": [],
   "source": [
    "#! pip install --upgrade --no-deps theano"
   ]
  },
  {
   "cell_type": "markdown",
   "id": "3ef1802c",
   "metadata": {},
   "source": [
    "### A Simple Theano Example\n",
    "\n",
    "In this example, we define two symbolic floating point variables *a* and *b*. We define an expression that uses these variables *(c = a + b)*. We then compile this symbolic expression into a function using Theano that we can use later. Finally, we use our compiled expression by plugging in some real values and performing the calculation using efficient compiled Theano code under the covers. "
   ]
  },
  {
   "cell_type": "code",
   "execution_count": 3,
   "id": "fe7a532e",
   "metadata": {},
   "outputs": [
    {
     "name": "stdout",
     "output_type": "stream",
     "text": [
      "4.0\n"
     ]
    }
   ],
   "source": [
    "# Example of Theano library\n",
    "import theano\n",
    "from theano import tensor\n",
    "\n",
    "# declare two symbolic floating-point scalars\n",
    "a = tensor.dscalar()\n",
    "b = tensor.dscalar()\n",
    "\n",
    "# create a simple symbolic expression\n",
    "c = a + b\n",
    "\n",
    "# convert the expression into a callable object that takes (a,b) and computes c\n",
    "f = theano.function([a,b], c)\n",
    "\n",
    "# bind 1.5 to 'a', 2.5 to 'b', and evaluate 'c'\n",
    "result = f(1.5, 2.5)\n",
    "print(result)"
   ]
  },
  {
   "cell_type": "markdown",
   "id": "b77e851e",
   "metadata": {},
   "source": [
    "Pre-defining computation to be compiled for efficiency may be scaled up to large vector and matrix operations required for deep learning.\n",
    "\n",
    "### Extensions and Wrappers for Theano\n",
    "Keras is a wrapper library that hides Theano completely and provides a very simple API to work with to create deep learning models. It hides Theano so well, that it can run as a wrapper for TensorFlow. Wrapper projects like Keras provide data structures and behaviors in Python while ensuring that fast and efficient models are created and executed by Theano under the covers. \n",
    "\n",
    "## Introduction to TensorFlow\n",
    "TensorFlow is a Python library for fast numerical computing created and released by Google. It is released under the Apache 2.0 open source license. Unlike other numerical libraries intended for use in Deep Learning like Theano, TensorFlow was designed for use both in research and development and in production systems. \n",
    "\n",
    "### Installing TensorFlow"
   ]
  },
  {
   "cell_type": "code",
   "execution_count": 4,
   "id": "244b02a8",
   "metadata": {},
   "outputs": [],
   "source": [
    "#! pip install tensorflow"
   ]
  },
  {
   "cell_type": "markdown",
   "id": "d31a3292",
   "metadata": {},
   "source": [
    "### TensorFlow Computation\n",
    "Computation is described in terms of data flow and operations in the structure of a directed graph.\n",
    "- Nodes: Nodes perform computation and have zero or more inputs and outputs. Data that moves between nodes are knwon as tensors, which are multi-dimensional arrays of real values.\n",
    "- Edges: The graph defines the flow of data, branching, looping and updates to state. Special edges can be used to synchronize behavior within the graph, for example waiting for computation on a number of inputs to complete. \n",
    "- Operation: An operation is a named abstract computation which can take input attributes and produce output attributes. For example, you could define an add or multiply operation.\n",
    "\n",
    "### Simple TensorFlow Example\n",
    "In this example, we define two symbolic floating point variables *a* and *b*. We define an expression that uses these variables *(c = a + b)*. This is the same example used when we introduced Theano. We then compile this symbolic expression into a function using TensorFlow that we can use later. Finally, we use our compiled expression by plugging in some real values and performing the calculation using efficient compiled TensorFlow code under the covers. "
   ]
  },
  {
   "cell_type": "code",
   "execution_count": 7,
   "id": "454520be",
   "metadata": {},
   "outputs": [
    {
     "name": "stdout",
     "output_type": "stream",
     "text": [
      "WARNING:tensorflow:From /usr/local/anaconda3/lib/python3.8/site-packages/tensorflow/python/compat/v2_compat.py:107: disable_resource_variables (from tensorflow.python.ops.variable_scope) is deprecated and will be removed in a future version.\n",
      "Instructions for updating:\n",
      "non-resource variables are not supported in the long term\n",
      "4.0\n"
     ]
    }
   ],
   "source": [
    "# Example of TensorFlow library\n",
    "import tensorflow as tf\n",
    "import tensorflow.compat.v1 as tf\n",
    "\n",
    "# Disabling v2 tensorflow eager execution to allow use of tf.placeholder()\n",
    "tf.disable_v2_behavior()\n",
    "\n",
    "# declare two symbolic floating-point scalars\n",
    "a = tf.placeholder(tf.float32)\n",
    "b = tf.placeholder(tf.float32)\n",
    "\n",
    "# create a simple symbolic expression using the add function\n",
    "add = tf.add(a, b)\n",
    "\n",
    "# bind 1.5 to 'a', 2.5 to 'b', and evaluate 'c'\n",
    "sess = tf.Session()\n",
    "binding = {a: 1.5, b: 2.5}\n",
    "c = sess.run(add, feed_dict=binding)\n",
    "print(c)"
   ]
  },
  {
   "cell_type": "markdown",
   "id": "0a218b75",
   "metadata": {},
   "source": [
    "This example prints the output `4`, but it does come with a warning message that non-resource variables are not supported in the long term. For the purposes of generating TensorFlow based models, this is not a concern, and we this example is only used for demonstrating the underlying practice of pre-defining a computation to be compiled for efficiency. "
   ]
  },
  {
   "cell_type": "markdown",
   "id": "e8daad37",
   "metadata": {},
   "source": [
    "## Introduction to Keras"
   ]
  },
  {
   "cell_type": "markdown",
   "id": "a15603f0",
   "metadata": {},
   "source": [
    "Theano and TensorFlow can be difficult to use directly for creating deep learning models. The Keras library provides a clean and convenient way to create a range of deep learning models on top of Theano or TensorFlow. \n",
    "\n",
    "### What is Keras?\n",
    "Developed and maintained by Francois Chollet, Keras is released under the permissive MIT license. It has four guiding principles:\n",
    "- **Modularity**: A model can be understood as a sequence or a graph alone. All the concerns of a deep learning model are discrete components that can be combined in arbitrary ways. \n",
    "- **Minimalism**: The library provides just enough to achieve an outcome, no frills and maximizing readability.\n",
    "- **Extensibility**: New components are intentionally easy to add and use within the framework, intended for developers to trial and explore new ideas.\n",
    "- **Python**: No separate model files with custom file formats. Everything is native Python. \n",
    "\n",
    "### Installing Keras"
   ]
  },
  {
   "cell_type": "code",
   "execution_count": 8,
   "id": "349da0b5",
   "metadata": {},
   "outputs": [
    {
     "name": "stdout",
     "output_type": "stream",
     "text": [
      "Requirement already satisfied: keras in /usr/local/anaconda3/lib/python3.8/site-packages (2.11.0)\r\n"
     ]
    }
   ],
   "source": [
    "#! pip install keras"
   ]
  },
  {
   "cell_type": "markdown",
   "id": "65dc100b",
   "metadata": {},
   "source": [
    "Identifying the version:"
   ]
  },
  {
   "cell_type": "code",
   "execution_count": 10,
   "id": "c2cfe513",
   "metadata": {},
   "outputs": [
    {
     "name": "stdout",
     "output_type": "stream",
     "text": [
      "2023-03-12 19:00:23.009740: I tensorflow/core/platform/cpu_feature_guard.cc:193] This TensorFlow binary is optimized with oneAPI Deep Neural Network Library (oneDNN) to use the following CPU instructions in performance-critical operations:  AVX2 FMA\n",
      "To enable them in other operations, rebuild TensorFlow with the appropriate compiler flags.\n",
      "2.11.0\n"
     ]
    }
   ],
   "source": [
    "#! python -c \"import keras; print(keras.__version__)\""
   ]
  },
  {
   "cell_type": "markdown",
   "id": "6fc79995",
   "metadata": {},
   "source": [
    "Upgrading keras, if necessary:"
   ]
  },
  {
   "cell_type": "code",
   "execution_count": 11,
   "id": "09f9c23e",
   "metadata": {},
   "outputs": [
    {
     "name": "stdout",
     "output_type": "stream",
     "text": [
      "Requirement already satisfied: keras in /usr/local/anaconda3/lib/python3.8/site-packages (2.11.0)\r\n"
     ]
    }
   ],
   "source": [
    "#! pip install --upgrade keras"
   ]
  },
  {
   "cell_type": "code",
   "execution_count": 12,
   "id": "25e7fb62",
   "metadata": {},
   "outputs": [
    {
     "name": "stdout",
     "output_type": "stream",
     "text": [
      "2023-03-12 19:01:32.732899: I tensorflow/core/platform/cpu_feature_guard.cc:193] This TensorFlow binary is optimized with oneAPI Deep Neural Network Library (oneDNN) to use the following CPU instructions in performance-critical operations:  AVX2 FMA\n",
      "To enable them in other operations, rebuild TensorFlow with the appropriate compiler flags.\n",
      "tensorflow\n"
     ]
    }
   ],
   "source": [
    "! python -c \"from keras import backend; print(backend.backend())\""
   ]
  },
  {
   "cell_type": "markdown",
   "id": "577c857b",
   "metadata": {},
   "source": [
    "You can specify the backend to use by Keras on the command line by specifying the `KERAS_BACKEND` environment variable:"
   ]
  },
  {
   "cell_type": "code",
   "execution_count": 13,
   "id": "f8177a42",
   "metadata": {},
   "outputs": [],
   "source": [
    "#! KERAS_BACKEND=theano python -c \"from keras import backend; print(backend.backend())\""
   ]
  },
  {
   "cell_type": "markdown",
   "id": "3c5589a8",
   "metadata": {},
   "source": [
    "## Build Deep Learning Models with Keras\n",
    "The construction of deep learning models in Keras can be summarized as:\n",
    "1. **Define your model**. Create a `Sequential` model and add configured layers.\n",
    "2. **Compile your model**. Specify loss function and optimizers and call the `compile()` function on the model.\n",
    "3. **Fit your model**. Train the model on a sample of data by calling the `fit()` function on the model.\n",
    "4. **Make predictions**. Use the model to generate predictions on new data by calling functions such as `evaluate()` or `predict()` on the model."
   ]
  }
 ],
 "metadata": {
  "kernelspec": {
   "display_name": "Python 3",
   "language": "python",
   "name": "python3"
  },
  "language_info": {
   "codemirror_mode": {
    "name": "ipython",
    "version": 3
   },
   "file_extension": ".py",
   "mimetype": "text/x-python",
   "name": "python",
   "nbconvert_exporter": "python",
   "pygments_lexer": "ipython3",
   "version": "3.8.8"
  }
 },
 "nbformat": 4,
 "nbformat_minor": 5
}
